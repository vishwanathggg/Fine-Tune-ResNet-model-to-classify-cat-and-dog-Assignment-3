{
  "cells": [
    {
      "cell_type": "code",
      "execution_count": 47,
      "metadata": {},
      "outputs": [],
      "source": [
        "import tensorflow as tf\n",
        "from tensorflow.keras.applications.resnet50 import ResNet50\n",
        "from tensorflow.keras.models import Model\n",
        "from tensorflow.keras.layers import Dense, GlobalAveragePooling2D\n",
        "from tensorflow.keras.preprocessing.image import ImageDataGenerator\n",
        "\n",
        "import numpy as np\n",
        "import matplotlib.pyplot as plt \n",
        "import os \n",
        "import cv2"
      ]
    },
    {
      "cell_type": "code",
      "execution_count": 32,
      "metadata": {},
      "outputs": [],
      "source": [
        "# Step 1: Load the ResNet50 model without the top classification layer\n",
        "base_model = ResNet50(weights='imagenet', include_top=False)"
      ]
    },
    {
      "cell_type": "code",
      "execution_count": 33,
      "metadata": {},
      "outputs": [
        {
          "name": "stdout",
          "output_type": "stream",
          "text": [
            "Found 140 images belonging to 2 classes.\n",
            "Found 140 images belonging to 2 classes.\n",
            "Epoch 1/10\n"
          ]
        },
        {
          "name": "stderr",
          "output_type": "stream",
          "text": [
            "2023-10-14 14:59:33.929953: I tensorflow/core/grappler/optimizers/custom_graph_optimizer_registry.cc:114] Plugin optimizer for device_type GPU is enabled.\n"
          ]
        },
        {
          "name": "stdout",
          "output_type": "stream",
          "text": [
            "5/5 [==============================] - ETA: 0s - loss: 1.7768 - accuracy: 0.4143"
          ]
        },
        {
          "name": "stderr",
          "output_type": "stream",
          "text": [
            "2023-10-14 14:59:49.864793: I tensorflow/core/grappler/optimizers/custom_graph_optimizer_registry.cc:114] Plugin optimizer for device_type GPU is enabled.\n"
          ]
        },
        {
          "name": "stdout",
          "output_type": "stream",
          "text": [
            "5/5 [==============================] - 29s 5s/step - loss: 1.7768 - accuracy: 0.4143 - val_loss: 2.0328 - val_accuracy: 0.5000\n",
            "Epoch 2/10\n",
            "5/5 [==============================] - 3s 626ms/step - loss: 1.6130 - accuracy: 0.5000 - val_loss: 0.7292 - val_accuracy: 0.5000\n",
            "Epoch 3/10\n",
            "5/5 [==============================] - 3s 529ms/step - loss: 1.2854 - accuracy: 0.5000 - val_loss: 0.8684 - val_accuracy: 0.5000\n",
            "Epoch 4/10\n",
            "5/5 [==============================] - 3s 526ms/step - loss: 0.9346 - accuracy: 0.5071 - val_loss: 1.1492 - val_accuracy: 0.5000\n",
            "Epoch 5/10\n",
            "5/5 [==============================] - 3s 570ms/step - loss: 0.8387 - accuracy: 0.4571 - val_loss: 0.8678 - val_accuracy: 0.5000\n",
            "Epoch 6/10\n",
            "5/5 [==============================] - 3s 541ms/step - loss: 0.8173 - accuracy: 0.4929 - val_loss: 0.6876 - val_accuracy: 0.5286\n",
            "Epoch 7/10\n",
            "5/5 [==============================] - 3s 595ms/step - loss: 0.6754 - accuracy: 0.5571 - val_loss: 0.6487 - val_accuracy: 0.5643\n",
            "Epoch 8/10\n",
            "5/5 [==============================] - 3s 504ms/step - loss: 0.7049 - accuracy: 0.5214 - val_loss: 0.6676 - val_accuracy: 0.5786\n",
            "Epoch 9/10\n",
            "5/5 [==============================] - 3s 517ms/step - loss: 0.6639 - accuracy: 0.6429 - val_loss: 0.6730 - val_accuracy: 0.5714\n",
            "Epoch 10/10\n",
            "5/5 [==============================] - 3s 529ms/step - loss: 0.6633 - accuracy: 0.6357 - val_loss: 0.6758 - val_accuracy: 0.5786\n"
          ]
        },
        {
          "data": {
            "text/plain": [
              "<keras.src.callbacks.History at 0x2b7f4e4d0>"
            ]
          },
          "execution_count": 33,
          "metadata": {},
          "output_type": "execute_result"
        }
      ],
      "source": [
        "# Step 2: Add custom layers for binary classification (cat vs dog)\n",
        "x = base_model.output\n",
        "x = GlobalAveragePooling2D()(x)\n",
        "x = Dense(1024, activation='relu')(x)\n",
        "predictions = Dense(1, activation='sigmoid')(x)  # Use 'sigmoid' for binary classification\n",
        "model = Model(inputs=base_model.input, outputs=predictions)\n",
        "\n",
        "# Step 3: Set up the model for fine-tuning\n",
        "# Initially, freeze all layers of the pre-trained model\n",
        "for layer in base_model.layers:\n",
        "    layer.trainable = False\n",
        "\n",
        "model.compile(optimizer='adam', loss='binary_crossentropy', metrics=['accuracy'])\n",
        "\n",
        "# Step 4: Data preprocessing\n",
        "train_datagen = ImageDataGenerator(rescale=1./255,\n",
        "                                   shear_range=0.2,\n",
        "                                   zoom_range=0.2,\n",
        "                                   horizontal_flip=True)\n",
        "\n",
        "test_datagen = ImageDataGenerator(rescale=1./255)\n",
        "\n",
        "train_generator = train_datagen.flow_from_directory('./data/',\n",
        "                                                    target_size=(224, 224),\n",
        "                                                    batch_size=32,\n",
        "                                                    class_mode='binary')\n",
        "\n",
        "validation_generator = test_datagen.flow_from_directory('./data/',\n",
        "                                                        target_size=(224, 224),\n",
        "                                                        batch_size=32,\n",
        "                                                        class_mode='binary')\n",
        "\n",
        "# Step 5: Train the model\n",
        "model.fit(train_generator,\n",
        "          epochs = 10,\n",
        "          validation_data=validation_generator)\n",
        "\n"
      ]
    },
    {
      "cell_type": "code",
      "execution_count": 34,
      "metadata": {},
      "outputs": [
        {
          "name": "stderr",
          "output_type": "stream",
          "text": [
            "2023-10-14 15:00:25.846498: I tensorflow/core/grappler/optimizers/custom_graph_optimizer_registry.cc:114] Plugin optimizer for device_type GPU is enabled.\n"
          ]
        },
        {
          "name": "stdout",
          "output_type": "stream",
          "text": [
            "1/1 [==============================] - 5s 5s/step\n",
            "It's a cat!\n"
          ]
        }
      ],
      "source": [
        "from tensorflow.keras.preprocessing import image\n",
        "\n",
        "def load_and_preprocess_image(img_path):\n",
        "    \"\"\"Load and preprocess the image for prediction.\"\"\"\n",
        "    # Load the image with the target size that your model expects\n",
        "    img = image.load_img(img_path, target_size=(224, 224))\n",
        "    # Convert the PIL image to a numpy array\n",
        "    img_array = image.img_to_array(img)\n",
        "    # Expand the shape of the array from (224, 224, 3) to (1, 224, 224, 3)\n",
        "    img_array = np.expand_dims(img_array, axis=0)\n",
        "    # Preprocess the image to make it match the format ResNet was originally trained on\n",
        "    img_array /= 255.0\n",
        "    return img_array\n",
        "\n",
        "# Load and preprocess the image\n",
        "img_path = './data/cats/cat_113.jpg'\n",
        "img_array = load_and_preprocess_image(img_path)\n",
        "\n",
        "# Make the prediction\n",
        "predictions = model.predict(img_array)\n",
        "\n",
        "# Interpret the prediction\n",
        "if predictions[0][0] > 0.5:\n",
        "    print(\"It's a dog!\")\n",
        "else:\n",
        "    print(\"It's a cat!\")"
      ]
    }
  ],
  "metadata": {
    "accelerator": "GPU",
    "colab": {
      "provenance": []
    },
    "gpuClass": "standard",
    "kernelspec": {
      "display_name": "Python 3",
      "name": "python3"
    },
    "language_info": {
      "codemirror_mode": {
        "name": "ipython",
        "version": 3
      },
      "file_extension": ".py",
      "mimetype": "text/x-python",
      "name": "python",
      "nbconvert_exporter": "python",
      "pygments_lexer": "ipython3",
      "version": "3.11.4"
    }
  },
  "nbformat": 4,
  "nbformat_minor": 0
}
